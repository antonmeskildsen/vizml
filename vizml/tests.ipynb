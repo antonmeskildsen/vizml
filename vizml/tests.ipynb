{
 "cells": [
  {
   "cell_type": "code",
   "execution_count": 1,
   "metadata": {},
   "outputs": [
    {
     "name": "stdout",
     "output_type": "stream",
     "text": [
      "W2\n",
      "Y\n",
      "*\n",
      "W1\n",
      "X\n",
      "*\n",
      "+\n",
      "output\n"
     ]
    }
   ],
   "source": [
    "import operator\n",
    "import networkx as nx\n",
    "from nxpd import draw\n",
    "\n",
    "import graph\n",
    "from graph import Session, Graph\n",
    "from nodes import Variable, Input, Output, Constant\n",
    "\n",
    "\n",
    "X = Input('X')\n",
    "W1 = Variable('W1')\n",
    "\n",
    "a1 = X*W1\n",
    "\n",
    "Y = Input('Y')\n",
    "W2 = Variable('W2')\n",
    "\n",
    "a2 = Y*W2\n",
    "\n",
    "out = Output(a1 + a2)\n",
    "\n",
    "\n",
    "for node in out.graph():\n",
    "    print(node)"
   ]
  },
  {
   "cell_type": "code",
   "execution_count": 9,
   "metadata": {},
   "outputs": [],
   "source": [
    "from gvanim import Animation\n",
    "import gvanim\n",
    "\n",
    "from gvanim.jupyter import interactive\n",
    "ga = Animation()"
   ]
  },
  {
   "cell_type": "code",
   "execution_count": 10,
   "metadata": {},
   "outputs": [],
   "source": [
    "g = out.graph()\n",
    "\n",
    "m = {node: i for i, node in enumerate(g.nodes)}\n",
    "\n",
    "for node in g.topological():\n",
    "    attrs = Graph.attr_map[g.type_to_key(node)]\n",
    "    ga.label_node(m[node], f'{node}')\n",
    "    for c in node.consumers:\n",
    "        if c in g.nodes:\n",
    "            ga.add_edge(m[node], m[c])"
   ]
  },
  {
   "cell_type": "code",
   "execution_count": 11,
   "metadata": {},
   "outputs": [],
   "source": [
    "for node in g.topological():\n",
    "    ga.next_step()\n",
    "    ga.label_node(m[node], 'done')\n",
    "    ga.highlight_node(m[node])\n"
   ]
  },
  {
   "cell_type": "code",
   "execution_count": 12,
   "metadata": {},
   "outputs": [
    {
     "data": {
      "application/vnd.jupyter.widget-view+json": {
       "model_id": "007e706c79b54349ace067eb1c338c13",
       "version_major": 2,
       "version_minor": 0
      },
      "text/plain": [
       "interactive(children=(IntSlider(value=0, description='n', max=8), Output()), _dom_classes=('widget-interact',)…"
      ]
     },
     "metadata": {},
     "output_type": "display_data"
    }
   ],
   "source": [
    "interactive( ga, 1200 )"
   ]
  },
  {
   "cell_type": "code",
   "execution_count": 4,
   "metadata": {},
   "outputs": [],
   "source": [
    "ga.label_node( 1, heap[ 1 ] )\n",
    "for i in range( 2, len( heap ) ):\n",
    "    ga.label_node( i, heap[ i ] )\n",
    "    ga.add_edge( i / 2, i )"
   ]
  },
  {
   "cell_type": "code",
   "execution_count": 5,
   "metadata": {},
   "outputs": [],
   "source": [
    "def down_heap( i, n ):\n",
    "    t = heap[ i ]\n",
    "    while i <= n/2:\n",
    "        ga.highlight_node( i )\n",
    "        ga.next_step()\n",
    "        j = 2 * i\n",
    "        if j < n and heap[ j ] < heap[ j + 1 ]: j += 1\n",
    "        ga.highlight_edge( i, j )    \n",
    "        ga.next_step()\n",
    "        if t >= heap[ j ]: break\n",
    "        heap[ i ] = heap[ j ]\n",
    "        ga.highlight_node( i )\n",
    "        ga.highlight_node( j )\n",
    "        ga.label_node( i, heap[ i ] )\n",
    "        ga.label_node( j, heap[ j ] )             \n",
    "        ga.next_step()\n",
    "        i = j\n",
    "    heap[ i ] = t\n",
    "    ga.highlight_node( i )\n",
    "    ga.label_node( i, heap[ i ] )\n",
    "    ga.next_step()"
   ]
  },
  {
   "cell_type": "code",
   "execution_count": 6,
   "metadata": {},
   "outputs": [],
   "source": [
    "n = len( heap ) - 1\n",
    "ga.next_step()\n",
    "for i in range( n // 2, 0, -1 ):\n",
    "    down_heap( i, n )"
   ]
  },
  {
   "cell_type": "code",
   "execution_count": 7,
   "metadata": {},
   "outputs": [],
   "source": [
    "\n",
    "ga.next_step()\n",
    "while n > 1:\n",
    "    heap[ 1 ], heap[ n ] = heap[ n ], heap[ 1 ]\n",
    "    ga.highlight_node( 1 )\n",
    "    ga.highlight_node( n )\n",
    "    ga.label_node( 1, heap[ 1 ] )\n",
    "    ga.label_node( n, heap[ n ] )             \n",
    "    ga.next_step()\n",
    "    n -= 1\n",
    "    down_heap( 1, n )"
   ]
  },
  {
   "cell_type": "code",
   "execution_count": 9,
   "metadata": {},
   "outputs": [
    {
     "data": {
      "application/vnd.jupyter.widget-view+json": {
       "model_id": "06d13951ab224ee894ee034019755511",
       "version_major": 2,
       "version_minor": 0
      },
      "text/plain": [
       "interactive(children=(IntSlider(value=0, description='n', max=67), Output()), _dom_classes=('widget-interact',…"
      ]
     },
     "metadata": {},
     "output_type": "display_data"
    }
   ],
   "source": [
    "interactive( ga, 1200 )"
   ]
  },
  {
   "cell_type": "code",
   "execution_count": null,
   "metadata": {},
   "outputs": [],
   "source": []
  },
  {
   "cell_type": "code",
   "execution_count": null,
   "metadata": {},
   "outputs": [],
   "source": []
  }
 ],
 "metadata": {
  "kernelspec": {
   "display_name": "Python 3",
   "language": "python",
   "name": "python3"
  },
  "language_info": {
   "codemirror_mode": {
    "name": "ipython",
    "version": 3
   },
   "file_extension": ".py",
   "mimetype": "text/x-python",
   "name": "python",
   "nbconvert_exporter": "python",
   "pygments_lexer": "ipython3",
   "version": "3.6.6"
  }
 },
 "nbformat": 4,
 "nbformat_minor": 2
}
